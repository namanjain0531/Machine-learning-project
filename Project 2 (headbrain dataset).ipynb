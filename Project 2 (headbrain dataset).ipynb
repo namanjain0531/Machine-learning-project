{
 "cells": [
  {
   "cell_type": "code",
   "execution_count": 1,
   "metadata": {},
   "outputs": [],
   "source": [
    "import pandas as pd\n",
    "import numpy as np\n",
    "import matplotlib.pyplot as plt\n",
    "import seaborn as sns\n",
    "from sklearn.linear_model import LinearRegression \n",
    "from sklearn.model_selection import train_test_split\n",
    "from sklearn.metrics import mean_squared_error"
   ]
  },
  {
   "cell_type": "markdown",
   "metadata": {},
   "source": [
    "# IMPORT DATASET"
   ]
  },
  {
   "cell_type": "code",
   "execution_count": 2,
   "metadata": {},
   "outputs": [
    {
     "data": {
      "text/html": [
       "<div>\n",
       "<style scoped>\n",
       "    .dataframe tbody tr th:only-of-type {\n",
       "        vertical-align: middle;\n",
       "    }\n",
       "\n",
       "    .dataframe tbody tr th {\n",
       "        vertical-align: top;\n",
       "    }\n",
       "\n",
       "    .dataframe thead th {\n",
       "        text-align: right;\n",
       "    }\n",
       "</style>\n",
       "<table border=\"1\" class=\"dataframe\">\n",
       "  <thead>\n",
       "    <tr style=\"text-align: right;\">\n",
       "      <th></th>\n",
       "      <th>Gender</th>\n",
       "      <th>AgeRange</th>\n",
       "      <th>HeadSize</th>\n",
       "      <th>BrainWeight</th>\n",
       "    </tr>\n",
       "  </thead>\n",
       "  <tbody>\n",
       "    <tr>\n",
       "      <td>0</td>\n",
       "      <td>1</td>\n",
       "      <td>1</td>\n",
       "      <td>4512</td>\n",
       "      <td>1530</td>\n",
       "    </tr>\n",
       "    <tr>\n",
       "      <td>1</td>\n",
       "      <td>1</td>\n",
       "      <td>1</td>\n",
       "      <td>3738</td>\n",
       "      <td>1297</td>\n",
       "    </tr>\n",
       "    <tr>\n",
       "      <td>2</td>\n",
       "      <td>1</td>\n",
       "      <td>1</td>\n",
       "      <td>4261</td>\n",
       "      <td>1335</td>\n",
       "    </tr>\n",
       "    <tr>\n",
       "      <td>3</td>\n",
       "      <td>1</td>\n",
       "      <td>1</td>\n",
       "      <td>3777</td>\n",
       "      <td>1282</td>\n",
       "    </tr>\n",
       "    <tr>\n",
       "      <td>4</td>\n",
       "      <td>1</td>\n",
       "      <td>1</td>\n",
       "      <td>4177</td>\n",
       "      <td>1590</td>\n",
       "    </tr>\n",
       "    <tr>\n",
       "      <td>...</td>\n",
       "      <td>...</td>\n",
       "      <td>...</td>\n",
       "      <td>...</td>\n",
       "      <td>...</td>\n",
       "    </tr>\n",
       "    <tr>\n",
       "      <td>232</td>\n",
       "      <td>2</td>\n",
       "      <td>2</td>\n",
       "      <td>3214</td>\n",
       "      <td>1110</td>\n",
       "    </tr>\n",
       "    <tr>\n",
       "      <td>233</td>\n",
       "      <td>2</td>\n",
       "      <td>2</td>\n",
       "      <td>3394</td>\n",
       "      <td>1215</td>\n",
       "    </tr>\n",
       "    <tr>\n",
       "      <td>234</td>\n",
       "      <td>2</td>\n",
       "      <td>2</td>\n",
       "      <td>3233</td>\n",
       "      <td>1104</td>\n",
       "    </tr>\n",
       "    <tr>\n",
       "      <td>235</td>\n",
       "      <td>2</td>\n",
       "      <td>2</td>\n",
       "      <td>3352</td>\n",
       "      <td>1170</td>\n",
       "    </tr>\n",
       "    <tr>\n",
       "      <td>236</td>\n",
       "      <td>2</td>\n",
       "      <td>2</td>\n",
       "      <td>3391</td>\n",
       "      <td>1120</td>\n",
       "    </tr>\n",
       "  </tbody>\n",
       "</table>\n",
       "<p>237 rows × 4 columns</p>\n",
       "</div>"
      ],
      "text/plain": [
       "     Gender  AgeRange  HeadSize  BrainWeight\n",
       "0         1         1      4512         1530\n",
       "1         1         1      3738         1297\n",
       "2         1         1      4261         1335\n",
       "3         1         1      3777         1282\n",
       "4         1         1      4177         1590\n",
       "..      ...       ...       ...          ...\n",
       "232       2         2      3214         1110\n",
       "233       2         2      3394         1215\n",
       "234       2         2      3233         1104\n",
       "235       2         2      3352         1170\n",
       "236       2         2      3391         1120\n",
       "\n",
       "[237 rows x 4 columns]"
      ]
     },
     "execution_count": 2,
     "metadata": {},
     "output_type": "execute_result"
    }
   ],
   "source": [
    "data=pd.read_csv('headbrain.csv')\n",
    "data"
   ]
  },
  {
   "cell_type": "markdown",
   "metadata": {},
   "source": [
    "# EDA PROCESS"
   ]
  },
  {
   "cell_type": "code",
   "execution_count": 3,
   "metadata": {},
   "outputs": [
    {
     "data": {
      "text/plain": [
       "Index(['Gender', 'AgeRange', 'HeadSize', 'BrainWeight'], dtype='object')"
      ]
     },
     "execution_count": 3,
     "metadata": {},
     "output_type": "execute_result"
    }
   ],
   "source": [
    "data.keys()"
   ]
  },
  {
   "cell_type": "code",
   "execution_count": 4,
   "metadata": {},
   "outputs": [
    {
     "data": {
      "text/plain": [
       "0      1\n",
       "1      1\n",
       "2      1\n",
       "3      1\n",
       "4      1\n",
       "      ..\n",
       "232    2\n",
       "233    2\n",
       "234    2\n",
       "235    2\n",
       "236    2\n",
       "Name: Gender, Length: 237, dtype: int64"
      ]
     },
     "execution_count": 4,
     "metadata": {},
     "output_type": "execute_result"
    }
   ],
   "source": [
    "data.Gender"
   ]
  },
  {
   "cell_type": "code",
   "execution_count": 5,
   "metadata": {},
   "outputs": [
    {
     "data": {
      "text/plain": [
       "0      1\n",
       "1      1\n",
       "2      1\n",
       "3      1\n",
       "4      1\n",
       "      ..\n",
       "232    2\n",
       "233    2\n",
       "234    2\n",
       "235    2\n",
       "236    2\n",
       "Name: AgeRange, Length: 237, dtype: int64"
      ]
     },
     "execution_count": 5,
     "metadata": {},
     "output_type": "execute_result"
    }
   ],
   "source": [
    "data.AgeRange"
   ]
  },
  {
   "cell_type": "code",
   "execution_count": 6,
   "metadata": {},
   "outputs": [
    {
     "data": {
      "text/plain": [
       "0      4512\n",
       "1      3738\n",
       "2      4261\n",
       "3      3777\n",
       "4      4177\n",
       "       ... \n",
       "232    3214\n",
       "233    3394\n",
       "234    3233\n",
       "235    3352\n",
       "236    3391\n",
       "Name: HeadSize, Length: 237, dtype: int64"
      ]
     },
     "execution_count": 6,
     "metadata": {},
     "output_type": "execute_result"
    }
   ],
   "source": [
    "data.HeadSize"
   ]
  },
  {
   "cell_type": "code",
   "execution_count": 7,
   "metadata": {},
   "outputs": [
    {
     "data": {
      "text/plain": [
       "0      1530\n",
       "1      1297\n",
       "2      1335\n",
       "3      1282\n",
       "4      1590\n",
       "       ... \n",
       "232    1110\n",
       "233    1215\n",
       "234    1104\n",
       "235    1170\n",
       "236    1120\n",
       "Name: BrainWeight, Length: 237, dtype: int64"
      ]
     },
     "execution_count": 7,
     "metadata": {},
     "output_type": "execute_result"
    }
   ],
   "source": [
    "data.BrainWeight"
   ]
  },
  {
   "cell_type": "code",
   "execution_count": 8,
   "metadata": {},
   "outputs": [
    {
     "data": {
      "text/html": [
       "<div>\n",
       "<style scoped>\n",
       "    .dataframe tbody tr th:only-of-type {\n",
       "        vertical-align: middle;\n",
       "    }\n",
       "\n",
       "    .dataframe tbody tr th {\n",
       "        vertical-align: top;\n",
       "    }\n",
       "\n",
       "    .dataframe thead th {\n",
       "        text-align: right;\n",
       "    }\n",
       "</style>\n",
       "<table border=\"1\" class=\"dataframe\">\n",
       "  <thead>\n",
       "    <tr style=\"text-align: right;\">\n",
       "      <th></th>\n",
       "      <th>Gender</th>\n",
       "      <th>AgeRange</th>\n",
       "      <th>HeadSize</th>\n",
       "      <th>BrainWeight</th>\n",
       "    </tr>\n",
       "  </thead>\n",
       "  <tbody>\n",
       "    <tr>\n",
       "      <td>count</td>\n",
       "      <td>237.000000</td>\n",
       "      <td>237.000000</td>\n",
       "      <td>237.000000</td>\n",
       "      <td>237.000000</td>\n",
       "    </tr>\n",
       "    <tr>\n",
       "      <td>mean</td>\n",
       "      <td>1.434599</td>\n",
       "      <td>1.535865</td>\n",
       "      <td>3633.991561</td>\n",
       "      <td>1282.873418</td>\n",
       "    </tr>\n",
       "    <tr>\n",
       "      <td>std</td>\n",
       "      <td>0.496753</td>\n",
       "      <td>0.499768</td>\n",
       "      <td>365.261422</td>\n",
       "      <td>120.340446</td>\n",
       "    </tr>\n",
       "    <tr>\n",
       "      <td>min</td>\n",
       "      <td>1.000000</td>\n",
       "      <td>1.000000</td>\n",
       "      <td>2720.000000</td>\n",
       "      <td>955.000000</td>\n",
       "    </tr>\n",
       "    <tr>\n",
       "      <td>25%</td>\n",
       "      <td>1.000000</td>\n",
       "      <td>1.000000</td>\n",
       "      <td>3389.000000</td>\n",
       "      <td>1207.000000</td>\n",
       "    </tr>\n",
       "    <tr>\n",
       "      <td>50%</td>\n",
       "      <td>1.000000</td>\n",
       "      <td>2.000000</td>\n",
       "      <td>3614.000000</td>\n",
       "      <td>1280.000000</td>\n",
       "    </tr>\n",
       "    <tr>\n",
       "      <td>75%</td>\n",
       "      <td>2.000000</td>\n",
       "      <td>2.000000</td>\n",
       "      <td>3876.000000</td>\n",
       "      <td>1350.000000</td>\n",
       "    </tr>\n",
       "    <tr>\n",
       "      <td>max</td>\n",
       "      <td>2.000000</td>\n",
       "      <td>2.000000</td>\n",
       "      <td>4747.000000</td>\n",
       "      <td>1635.000000</td>\n",
       "    </tr>\n",
       "  </tbody>\n",
       "</table>\n",
       "</div>"
      ],
      "text/plain": [
       "           Gender    AgeRange     HeadSize  BrainWeight\n",
       "count  237.000000  237.000000   237.000000   237.000000\n",
       "mean     1.434599    1.535865  3633.991561  1282.873418\n",
       "std      0.496753    0.499768   365.261422   120.340446\n",
       "min      1.000000    1.000000  2720.000000   955.000000\n",
       "25%      1.000000    1.000000  3389.000000  1207.000000\n",
       "50%      1.000000    2.000000  3614.000000  1280.000000\n",
       "75%      2.000000    2.000000  3876.000000  1350.000000\n",
       "max      2.000000    2.000000  4747.000000  1635.000000"
      ]
     },
     "execution_count": 8,
     "metadata": {},
     "output_type": "execute_result"
    }
   ],
   "source": [
    "data.describe()"
   ]
  },
  {
   "cell_type": "code",
   "execution_count": 9,
   "metadata": {},
   "outputs": [
    {
     "data": {
      "text/plain": [
       "(237, 4)"
      ]
     },
     "execution_count": 9,
     "metadata": {},
     "output_type": "execute_result"
    }
   ],
   "source": [
    "data.shape"
   ]
  },
  {
   "cell_type": "code",
   "execution_count": 10,
   "metadata": {},
   "outputs": [
    {
     "data": {
      "text/plain": [
       "Gender         int64\n",
       "AgeRange       int64\n",
       "HeadSize       int64\n",
       "BrainWeight    int64\n",
       "dtype: object"
      ]
     },
     "execution_count": 10,
     "metadata": {},
     "output_type": "execute_result"
    }
   ],
   "source": [
    "data.dtypes"
   ]
  },
  {
   "cell_type": "code",
   "execution_count": 11,
   "metadata": {},
   "outputs": [
    {
     "data": {
      "text/plain": [
       "Gender         0\n",
       "AgeRange       0\n",
       "HeadSize       0\n",
       "BrainWeight    0\n",
       "dtype: int64"
      ]
     },
     "execution_count": 11,
     "metadata": {},
     "output_type": "execute_result"
    }
   ],
   "source": [
    "data.isnull().sum()"
   ]
  },
  {
   "cell_type": "code",
   "execution_count": 12,
   "metadata": {},
   "outputs": [
    {
     "data": {
      "text/plain": [
       "<matplotlib.axes._subplots.AxesSubplot at 0x19dffb6f388>"
      ]
     },
     "execution_count": 12,
     "metadata": {},
     "output_type": "execute_result"
    },
    {
     "data": {
      "image/png": "[encoded data removed]",
      "text/plain": [
       "<Figure size 432x288 with 2 Axes>"
      ]
     },
     "metadata": {
      "needs_background": "light"
     },
     "output_type": "display_data"
    }
   ],
   "source": [
    "sns.heatmap(data.isnull())"
   ]
  },
  {
   "cell_type": "code",
   "execution_count": 13,
   "metadata": {},
   "outputs": [
    {
     "data": {
      "text/plain": [
       "<matplotlib.axes._subplots.AxesSubplot at 0x19dffd010c8>"
      ]
     },
     "execution_count": 13,
     "metadata": {},
     "output_type": "execute_result"
    },
    {
     "data": {
      "image/png": "[encoded data removed]",
      "text/plain": [
       "<Figure size 432x288 with 1 Axes>"
      ]
     },
     "metadata": {
      "needs_background": "light"
     },
     "output_type": "display_data"
    }
   ],
   "source": [
    "data[\"Gender\"].plot.box()"
   ]
  },
  {
   "cell_type": "code",
   "execution_count": 14,
   "metadata": {},
   "outputs": [
    {
     "data": {
      "text/plain": [
       "<matplotlib.axes._subplots.AxesSubplot at 0x19dffd75448>"
      ]
     },
     "execution_count": 14,
     "metadata": {},
     "output_type": "execute_result"
    },
    {
     "data": {
      "image/png": "[encoded data removed]",
      "text/plain": [
       "<Figure size 432x288 with 1 Axes>"
      ]
     },
     "metadata": {
      "needs_background": "light"
     },
     "output_type": "display_data"
    }
   ],
   "source": [
    "data[\"AgeRange\"].plot.box()"
   ]
  },
  {
   "cell_type": "code",
   "execution_count": 15,
   "metadata": {},
   "outputs": [
    {
     "data": {
      "text/plain": [
       "<matplotlib.axes._subplots.AxesSubplot at 0x19dffdd8c08>"
      ]
     },
     "execution_count": 15,
     "metadata": {},
     "output_type": "execute_result"
    },
    {
     "data": {
      "image/png": "[encoded data removed]",
      "text/plain": [
       "<Figure size 432x288 with 1 Axes>"
      ]
     },
     "metadata": {
      "needs_background": "light"
     },
     "output_type": "display_data"
    }
   ],
   "source": [
    "data[\"HeadSize\"].plot.box()"
   ]
  },
  {
   "cell_type": "code",
   "execution_count": 16,
   "metadata": {},
   "outputs": [
    {
     "data": {
      "text/plain": [
       "<matplotlib.axes._subplots.AxesSubplot at 0x19dffe4cb08>"
      ]
     },
     "execution_count": 16,
     "metadata": {},
     "output_type": "execute_result"
    },
    {
     "data": {
      "image/png": "[encoded data removed]",
      "text/plain": [
       "<Figure size 432x288 with 1 Axes>"
      ]
     },
     "metadata": {
      "needs_background": "light"
     },
     "output_type": "display_data"
    }
   ],
   "source": [
    "data[\"BrainWeight\"].plot.box()"
   ]
  },
  {
   "cell_type": "markdown",
   "metadata": {},
   "source": [
    "# REMOVING OUTLIERS USING ZSCORE"
   ]
  },
  {
   "cell_type": "code",
   "execution_count": 17,
   "metadata": {},
   "outputs": [
    {
     "data": {
      "text/plain": [
       "array([[0.8767307 , 1.07449777, 2.40886829, 2.0579083 ],\n",
       "       [0.8767307 , 1.07449777, 0.28535333, 0.11763692],\n",
       "       [0.8767307 , 1.07449777, 1.72023489, 0.43407603],\n",
       "       [0.8767307 , 1.07449777, 0.39235214, 0.00727325],\n",
       "       [0.8767307 , 1.07449777, 1.4897759 , 2.557549  ],\n",
       "       [0.8767307 , 1.07449777, 0.13441126, 0.14261896],\n",
       "       [0.8767307 , 1.07449777, 0.41430062, 0.97535345],\n",
       "       [0.8767307 , 1.07449777, 0.2057438 , 0.23211156],\n",
       "       [0.8767307 , 1.07449777, 0.05759159, 0.60062293],\n",
       "       [0.8767307 , 1.07449777, 0.95478182, 0.76716983],\n",
       "       [0.8767307 , 1.07449777, 0.52399669, 0.47571276],\n",
       "       [0.8767307 , 1.07449777, 0.98496097, 0.80880656],\n",
       "       [0.8767307 , 1.07449777, 0.01648451, 0.60062293],\n",
       "       [0.8767307 , 1.07449777, 1.57482624, 1.99128954],\n",
       "       [0.8767307 , 1.07449777, 0.54324791, 0.62349678],\n",
       "       [0.8767307 , 1.07449777, 0.66396452, 1.01699018],\n",
       "       [0.8767307 , 1.07449777, 0.37584448, 0.62560497],\n",
       "       [0.8767307 , 1.07449777, 0.46089482, 0.0760002 ],\n",
       "       [0.8767307 , 1.07449777, 1.47875536, 0.47571276],\n",
       "       [0.8767307 , 1.07449777, 2.16743507, 0.97535345],\n",
       "       [0.8767307 , 1.07449777, 0.66945164, 0.61727762],\n",
       "       [0.8767307 , 1.07449777, 1.13036962, 0.03436347],\n",
       "       [0.8767307 , 1.07449777, 0.46642825, 0.06556467],\n",
       "       [0.8767307 , 1.07449777, 0.20853367, 0.10720139],\n",
       "       [0.8767307 , 1.07449777, 3.05360475, 2.93227952],\n",
       "       [0.8767307 , 1.07449777, 2.16469151, 1.84972468],\n",
       "       [0.8767307 , 1.07449777, 1.10293403, 1.7248145 ],\n",
       "       [0.8767307 , 1.07449777, 1.06452419, 1.68317778],\n",
       "       [0.8767307 , 1.07449777, 0.49381754, 0.22589241],\n",
       "       [0.8767307 , 1.07449777, 1.48428878, 1.14190035],\n",
       "       [0.8767307 , 1.07449777, 0.41978774, 0.29251117],\n",
       "       [0.8767307 , 1.07449777, 0.44447977, 1.24182849],\n",
       "       [0.8767307 , 1.07449777, 1.28675251, 0.67556904],\n",
       "       [0.8767307 , 1.07449777, 1.44587895, 1.01699018],\n",
       "       [0.8767307 , 1.07449777, 1.43764827, 1.24182849],\n",
       "       [0.8767307 , 1.07449777, 0.49386384, 0.63182412],\n",
       "       [0.8767307 , 1.07449777, 0.2935377 , 0.76716983],\n",
       "       [0.8767307 , 1.07449777, 0.31278892, 0.55898621],\n",
       "       [0.8767307 , 1.07449777, 0.82304466, 0.39033112],\n",
       "       [0.8767307 , 1.07449777, 0.38956228, 0.27374829],\n",
       "       [0.8767307 , 1.07449777, 0.89991063, 0.55898621],\n",
       "       [0.8767307 , 1.07449777, 0.35389601, 0.30916586],\n",
       "       [0.8767307 , 1.07449777, 1.8683871 , 2.01627157],\n",
       "       [0.8767307 , 1.07449777, 0.46642825, 2.3910021 ],\n",
       "       [0.8767307 , 1.07449777, 0.62829825, 0.47571276],\n",
       "       [0.8767307 , 1.07449777, 1.09744691, 1.15855504],\n",
       "       [0.8767307 , 1.07449777, 1.84918218, 1.85805202],\n",
       "       [0.8767307 , 1.07449777, 1.2867062 , 0.56520536],\n",
       "       [0.8767307 , 1.07449777, 0.01922807, 0.23421975],\n",
       "       [0.8767307 , 1.07449777, 0.02745875, 0.14261896],\n",
       "       [0.8767307 , 1.07449777, 0.70511792, 0.49025926],\n",
       "       [0.8767307 , 1.07449777, 0.4362491 , 0.55898621],\n",
       "       [0.8767307 , 1.07449777, 1.74492692, 0.43407603],\n",
       "       [0.8767307 , 1.07449777, 1.17701013, 0.89208   ],\n",
       "       [0.8767307 , 1.07449777, 1.0370886 , 0.97535345],\n",
       "       [0.8767307 , 1.07449777, 0.4828433 , 0.48193191],\n",
       "       [0.8767307 , 1.07449777, 0.70237436, 0.22589241],\n",
       "       [0.8767307 , 0.93066736, 1.45959675, 2.30772865],\n",
       "       [0.8767307 , 0.93066736, 0.82583453, 0.39243931],\n",
       "       [0.8767307 , 0.93066736, 0.09604773, 0.50691395],\n",
       "       [0.8767307 , 0.93066736, 0.63652893, 1.10026363],\n",
       "       [0.8767307 , 0.93066736, 0.66117466, 0.89829916],\n",
       "       [0.8767307 , 0.93066736, 2.21681914, 0.39243931],\n",
       "       [0.8767307 , 0.93066736, 1.69828641, 1.68317778],\n",
       "       [0.8767307 , 0.93066736, 0.25517418, 1.5582676 ],\n",
       "       [0.8767307 , 0.93066736, 0.83676246, 1.23139296],\n",
       "       [0.8767307 , 0.93066736, 0.60081635, 0.22589241],\n",
       "       [0.8767307 , 0.93066736, 0.71878941, 1.07317341],\n",
       "       [0.8767307 , 0.93066736, 2.18389643, 1.8913614 ],\n",
       "       [0.8767307 , 0.93066736, 2.04946202, 1.10026363],\n",
       "       [0.8767307 , 0.93066736, 1.02611436, 1.54161291],\n",
       "       [0.8767307 , 0.93066736, 0.61458046, 0.89208   ],\n",
       "       [0.8767307 , 0.93066736, 1.33613657, 0.80880656],\n",
       "       [0.8767307 , 0.93066736, 1.16054877, 1.24182849],\n",
       "       [0.8767307 , 0.93066736, 0.52129944, 0.35702174],\n",
       "       [0.8767307 , 0.93066736, 0.6584311 , 0.73175226],\n",
       "       [0.8767307 , 0.93066736, 0.20848736, 0.48193191],\n",
       "       [0.8767307 , 0.93066736, 0.746225  , 0.79004368],\n",
       "       [0.8767307 , 0.93066736, 0.81211673, 0.2570936 ],\n",
       "       [0.8767307 , 0.93066736, 0.55147859, 0.26752913],\n",
       "       [0.8767307 , 0.93066736, 0.53776079, 0.31538501],\n",
       "       [0.8767307 , 0.93066736, 0.60909334, 1.2251738 ],\n",
       "       [0.8767307 , 0.93066736, 1.05624721, 0.03225529],\n",
       "       [0.8767307 , 0.93066736, 0.15635973, 0.31538501],\n",
       "       [0.8767307 , 0.93066736, 0.82034741, 0.21756506],\n",
       "       [0.8767307 , 0.93066736, 0.59263198, 1.07528159],\n",
       "       [0.8767307 , 0.93066736, 0.89163365, 1.35630313],\n",
       "       [0.8767307 , 0.93066736, 0.62550839, 0.52356864],\n",
       "       [0.8767307 , 0.93066736, 0.35115245, 0.02392794],\n",
       "       [0.8767307 , 0.93066736, 0.74901487, 1.30844725],\n",
       "       [0.8767307 , 0.93066736, 1.44313539, 0.72553311],\n",
       "       [0.8767307 , 0.93066736, 0.86694161, 0.7567343 ],\n",
       "       [0.8767307 , 0.93066736, 0.07684282, 0.44029519],\n",
       "       [0.8767307 , 0.93066736, 0.72706639, 0.52567683],\n",
       "       [0.8767307 , 0.93066736, 0.18109807, 0.05934551],\n",
       "       [0.8767307 , 0.93066736, 0.39783926, 0.98157261],\n",
       "       [0.8767307 , 0.93066736, 0.44168991, 0.35702174],\n",
       "       [0.8767307 , 0.93066736, 0.3950494 , 1.25637499],\n",
       "       [0.8767307 , 0.93066736, 0.05489434, 0.34036705],\n",
       "       [0.8767307 , 0.93066736, 0.42797211, 0.10720139],\n",
       "       [0.8767307 , 0.93066736, 0.3813316 , 0.54022333],\n",
       "       [0.8767307 , 0.93066736, 0.54873503, 1.2251738 ],\n",
       "       [0.8767307 , 0.93066736, 0.66396452, 2.54089431],\n",
       "       [0.8767307 , 0.93066736, 0.07409926, 0.30916586],\n",
       "       [0.8767307 , 0.93066736, 0.0438738 , 0.05934551],\n",
       "       [0.8767307 , 0.93066736, 0.03843298, 0.19047484],\n",
       "       [0.8767307 , 0.93066736, 1.09195979, 1.18353708],\n",
       "       [0.8767307 , 0.93066736, 0.6447133 , 0.47360457],\n",
       "       [0.8767307 , 0.93066736, 0.7737069 , 0.64225966],\n",
       "       [0.8767307 , 0.93066736, 2.18389643, 2.80736935],\n",
       "       [0.8767307 , 0.93066736, 0.16738028, 0.22589241],\n",
       "       [0.8767307 , 0.93066736, 0.30176838, 0.27374829],\n",
       "       [0.8767307 , 0.93066736, 0.17282109, 0.10098223],\n",
       "       [0.8767307 , 0.93066736, 0.10971922, 0.05934551],\n",
       "       [0.8767307 , 0.93066736, 0.68861025, 0.05934551],\n",
       "       [0.8767307 , 0.93066736, 0.37035736, 0.06556467],\n",
       "       [0.8767307 , 0.93066736, 0.12343702, 0.27374829],\n",
       "       [0.8767307 , 0.93066736, 0.72980995, 0.10720139],\n",
       "       [0.8767307 , 0.93066736, 1.31693166, 0.65891435],\n",
       "       [0.8767307 , 0.93066736, 0.83132165, 0.14261896],\n",
       "       [0.8767307 , 0.93066736, 0.6447133 , 0.91495385],\n",
       "       [0.8767307 , 0.93066736, 1.55287777, 0.22378422],\n",
       "       [0.8767307 , 0.93066736, 2.34302287, 1.30844725],\n",
       "       [0.8767307 , 0.93066736, 0.05484804, 0.85666244],\n",
       "       [0.8767307 , 0.93066736, 1.14408742, 0.19258303],\n",
       "       [0.8767307 , 0.93066736, 0.40606994, 0.55898621],\n",
       "       [0.8767307 , 0.93066736, 0.66666178, 1.31466641],\n",
       "       [0.8767307 , 0.93066736, 1.39919214, 0.98157261],\n",
       "       [0.8767307 , 0.93066736, 1.14957454, 0.2425471 ],\n",
       "       [0.8767307 , 0.93066736, 0.14264194, 0.14261896],\n",
       "       [0.8767307 , 0.93066736, 0.08781705, 0.10720139],\n",
       "       [0.8767307 , 0.93066736, 0.27981991, 0.43407603],\n",
       "       [0.8767307 , 0.93066736, 1.13036962, 1.3917207 ],\n",
       "       [0.8767307 , 0.93066736, 0.09056061, 0.22589241],\n",
       "       [1.1406011 , 1.07449777, 2.13172249, 2.13074621],\n",
       "       [1.1406011 , 1.07449777, 0.54320161, 0.39865846],\n",
       "       [1.1406011 , 1.07449777, 0.43076198, 0.19047484],\n",
       "       [1.1406011 , 1.07449777, 0.91083856, 0.98157261],\n",
       "       [1.1406011 , 1.07449777, 1.45406332, 1.68939693],\n",
       "       [1.1406011 , 1.07449777, 1.27024484, 1.29801172],\n",
       "       [1.1406011 , 1.07449777, 0.17007753, 0.10720139],\n",
       "       [1.1406011 , 1.07449777, 0.28530702, 0.2570936 ],\n",
       "       [1.1406011 , 1.07449777, 1.25927061, 0.69011554],\n",
       "       [1.1406011 , 1.07449777, 0.53771449, 0.05934551],\n",
       "       [1.1406011 , 1.07449777, 0.73804063, 0.42574869],\n",
       "       [1.1406011 , 1.07449777, 0.72706639, 0.80880656],\n",
       "       [1.1406011 , 1.07449777, 0.63922618, 1.18975623],\n",
       "       [1.1406011 , 1.07449777, 1.00686314, 0.3320397 ],\n",
       "       [1.1406011 , 1.07449777, 0.50204822, 0.47571276],\n",
       "       [1.1406011 , 1.07449777, 1.49247315, 0.95659058],\n",
       "       [1.1406011 , 1.07449777, 0.60630347, 0.32582055],\n",
       "       [1.1406011 , 1.07449777, 0.85322382, 0.28207563],\n",
       "       [1.1406011 , 1.07449777, 0.12622688, 0.3174932 ],\n",
       "       [1.1406011 , 1.07449777, 0.53497093, 0.7567343 ],\n",
       "       [1.1406011 , 1.07449777, 0.60086266, 0.75051514],\n",
       "       [1.1406011 , 1.07449777, 1.31139823, 0.93993589],\n",
       "       [1.1406011 , 1.07449777, 0.97394043, 0.14883811],\n",
       "       [1.1406011 , 1.07449777, 0.20030299, 0.39865846],\n",
       "       [1.1406011 , 1.07449777, 1.02062724, 0.15927365],\n",
       "       [1.1406011 , 1.07449777, 1.00137602, 0.34869439],\n",
       "       [1.1406011 , 1.07449777, 1.54460078, 1.70605162],\n",
       "       [1.1406011 , 1.07449777, 0.39783926, 1.97463485],\n",
       "       [1.1406011 , 1.07449777, 0.23592295, 1.47499415],\n",
       "       [1.1406011 , 1.07449777, 0.93827416, 1.73103366],\n",
       "       [1.1406011 , 1.07449777, 0.37584448, 0.02392794],\n",
       "       [1.1406011 , 1.07449777, 1.51442163, 0.85666244],\n",
       "       [1.1406011 , 1.07449777, 1.05899077, 0.27374829],\n",
       "       [1.1406011 , 1.07449777, 0.75719924, 0.77338899],\n",
       "       [1.1406011 , 1.07449777, 0.46368469, 0.75884249],\n",
       "       [1.1406011 , 1.07449777, 0.18653889, 0.19258303],\n",
       "       [1.1406011 , 1.07449777, 1.34157739, 0.67346085],\n",
       "       [1.1406011 , 1.07449777, 0.35938313, 0.35702174],\n",
       "       [1.1406011 , 1.07449777, 0.17282109, 0.27585648],\n",
       "       [1.1406011 , 1.07449777, 0.2469435 , 0.02392794],\n",
       "       [1.1406011 , 1.07449777, 0.05210448, 0.55898621],\n",
       "       [1.1406011 , 1.07449777, 1.18245094, 0.85666244],\n",
       "       [1.1406011 , 1.07449777, 0.06856583, 0.60684209],\n",
       "       [1.1406011 , 1.07449777, 0.20025668, 1.29801172],\n",
       "       [1.1406011 , 1.07449777, 0.94655114, 0.34247524],\n",
       "       [1.1406011 , 1.07449777, 0.27707635, 0.60684209],\n",
       "       [1.1406011 , 1.07449777, 0.15091892, 0.05934551],\n",
       "       [1.1406011 , 1.07449777, 1.30591112, 1.52285003],\n",
       "       [1.1406011 , 1.07449777, 1.01788369, 0.02392794],\n",
       "       [1.1406011 , 1.07449777, 1.24280925, 0.89829916],\n",
       "       [1.1406011 , 1.07449777, 0.42522855, 1.02320934],\n",
       "       [1.1406011 , 1.07449777, 0.02197163, 0.64847881],\n",
       "       [1.1406011 , 1.07449777, 0.00546397, 0.9982273 ],\n",
       "       [1.1406011 , 0.93066736, 1.5500879 , 2.17238294],\n",
       "       [1.1406011 , 0.93066736, 0.6584311 , 0.3320397 ],\n",
       "       [1.1406011 , 0.93066736, 0.18932875, 0.55898621],\n",
       "       [1.1406011 , 0.93066736, 1.2867062 , 0.38200377],\n",
       "       [1.1406011 , 0.93066736, 0.76817348, 0.65680616],\n",
       "       [1.1406011 , 0.93066736, 1.7393935 , 1.60612348],\n",
       "       [1.1406011 , 0.93066736, 0.1454318 , 0.60062293],\n",
       "       [1.1406011 , 0.93066736, 0.21397448, 0.27374829],\n",
       "       [1.1406011 , 0.93066736, 2.36218148, 1.72270631],\n",
       "       [1.1406011 , 0.93066736, 1.58026705, 1.35630313],\n",
       "       [1.1406011 , 0.93066736, 0.79560907, 0.52356864],\n",
       "       [1.1406011 , 0.93066736, 0.38681872, 0.35702174],\n",
       "       [1.1406011 , 0.93066736, 0.92455636, 0.52356864],\n",
       "       [1.1406011 , 0.93066736, 0.75171212, 1.56448676],\n",
       "       [1.1406011 , 0.93066736, 1.11386196, 0.39865846],\n",
       "       [1.1406011 , 0.93066736, 0.97942755, 1.48121331],\n",
       "       [1.1406011 , 0.93066736, 0.59537554, 1.01699018],\n",
       "       [1.1406011 , 0.93066736, 1.55557502, 1.10648279],\n",
       "       [1.1406011 , 0.93066736, 0.1591496 , 0.18425568],\n",
       "       [1.1406011 , 0.93066736, 0.63648263, 0.52356864],\n",
       "       [1.1406011 , 0.93066736, 0.99044809, 0.10930958],\n",
       "       [1.1406011 , 0.93066736, 0.86694161, 0.89829916],\n",
       "       [1.1406011 , 0.93066736, 2.50759013, 2.73031505],\n",
       "       [1.1406011 , 0.93066736, 1.91223774, 1.77267038],\n",
       "       [1.1406011 , 0.93066736, 0.14812905, 0.30916586],\n",
       "       [1.1406011 , 0.93066736, 1.90675062, 1.85594383],\n",
       "       [1.1406011 , 0.93066736, 1.76957265, 1.27302968],\n",
       "       [1.1406011 , 0.93066736, 0.1316677 , 0.27374829],\n",
       "       [1.1406011 , 0.93066736, 1.31139823, 0.48193191],\n",
       "       [1.1406011 , 0.93066736, 1.06447789, 0.85666244],\n",
       "       [1.1406011 , 0.93066736, 1.2729884 , 0.87331713],\n",
       "       [1.1406011 , 0.93066736, 1.00411958, 1.17310154],\n",
       "       [1.1406011 , 0.93066736, 0.6721489 , 1.27302968],\n",
       "       [1.1406011 , 0.93066736, 0.69409737, 0.81502571],\n",
       "       [1.1406011 , 0.93066736, 2.11251758, 2.25565639],\n",
       "       [1.1406011 , 0.93066736, 0.29084045, 0.02392794],\n",
       "       [1.1406011 , 0.93066736, 0.42522855, 1.497868  ],\n",
       "       [1.1406011 , 0.93066736, 0.03568942, 1.04197221],\n",
       "       [1.1406011 , 0.93066736, 0.22499502, 0.14261896],\n",
       "       [1.1406011 , 0.93066736, 0.96022263, 0.30705767],\n",
       "       [1.1406011 , 0.93066736, 1.563852  , 0.80880656],\n",
       "       [1.1406011 , 0.93066736, 0.27712265, 0.55898621],\n",
       "       [1.1406011 , 0.93066736, 1.14129755, 1.85594383],\n",
       "       [1.1406011 , 0.93066736, 0.13994468, 0.55898621],\n",
       "       [1.1406011 , 0.93066736, 0.19207231, 0.52356864],\n",
       "       [1.1406011 , 0.93066736, 1.15227179, 1.43957658],\n",
       "       [1.1406011 , 0.93066736, 0.6584311 , 0.56520536],\n",
       "       [1.1406011 , 0.93066736, 1.10014416, 1.48954065],\n",
       "       [1.1406011 , 0.93066736, 0.77366059, 0.93993589],\n",
       "       [1.1406011 , 0.93066736, 0.66666178, 1.35630313]])"
      ]
     },
     "execution_count": 17,
     "metadata": {},
     "output_type": "execute_result"
    }
   ],
   "source": [
    "from scipy.stats import zscore\n",
    "z=np.abs(zscore(data))\n",
    "z"
   ]
  },
  {
   "cell_type": "code",
   "execution_count": 18,
   "metadata": {},
   "outputs": [
    {
     "name": "stdout",
     "output_type": "stream",
     "text": [
      "(array([  0,   0,   0,   1,   2,   2,   3,   4,   4,   4,   5,   6,   7,\n",
      "         8,   9,  10,  11,  12,  13,  13,  13,  14,  15,  15,  16,  17,\n",
      "        18,  18,  19,  19,  20,  21,  21,  22,  23,  24,  24,  24,  25,\n",
      "        25,  25,  26,  26,  26,  27,  27,  27,  28,  29,  29,  29,  30,\n",
      "        31,  31,  32,  32,  33,  33,  33,  34,  34,  34,  35,  36,  37,\n",
      "        38,  39,  40,  41,  42,  42,  42,  43,  43,  44,  45,  45,  45,\n",
      "        46,  46,  46,  47,  47,  48,  49,  50,  51,  52,  52,  53,  53,\n",
      "        54,  54,  55,  56,  57,  57,  60,  62,  63,  63,  64,  65,  67,\n",
      "        68,  68,  69,  69,  70,  70,  72,  73,  73,  81,  82,  85,  86,\n",
      "        89,  90,  97, 101, 102, 106, 106, 109, 109, 118, 121, 122, 122,\n",
      "       124, 126, 127, 128, 132, 132, 134, 134, 134, 134, 135, 135, 136,\n",
      "       136, 137, 137, 138, 138, 138, 138, 139, 139, 139, 139, 140, 140,\n",
      "       141, 141, 142, 142, 142, 143, 143, 144, 144, 145, 145, 146, 146,\n",
      "       146, 147, 147, 147, 148, 148, 149, 149, 149, 150, 150, 151, 151,\n",
      "       152, 152, 153, 153, 154, 154, 155, 155, 155, 156, 156, 157, 157,\n",
      "       158, 158, 158, 159, 159, 159, 160, 160, 160, 160, 161, 161, 161,\n",
      "       162, 162, 162, 163, 163, 163, 164, 164, 165, 165, 165, 166, 166,\n",
      "       166, 167, 167, 168, 168, 169, 169, 170, 170, 170, 171, 171, 172,\n",
      "       172, 173, 173, 174, 174, 175, 175, 175, 176, 176, 177, 177, 177,\n",
      "       178, 178, 179, 179, 180, 180, 181, 181, 181, 181, 182, 182, 182,\n",
      "       183, 183, 183, 184, 184, 184, 185, 185, 186, 186, 187, 187, 187,\n",
      "       188, 189, 190, 190, 191, 192, 192, 192, 193, 194, 195, 195, 195,\n",
      "       196, 196, 196, 197, 198, 199, 200, 200, 201, 201, 202, 202, 203,\n",
      "       203, 204, 204, 204, 205, 206, 207, 208, 209, 209, 209, 210, 210,\n",
      "       210, 211, 212, 212, 212, 213, 213, 213, 214, 215, 215, 216, 216,\n",
      "       217, 217, 218, 218, 218, 219, 219, 220, 221, 221, 221, 222, 223,\n",
      "       223, 224, 224, 225, 226, 227, 227, 228, 229, 229, 229, 230, 231,\n",
      "       232, 232, 232, 233, 234, 234, 234, 235, 236, 236], dtype=int64), array([1, 2, 3, 1, 1, 2, 1, 1, 2, 3, 1, 1, 1, 1, 1, 1, 1, 1, 1, 2, 3, 1,\n",
      "       1, 3, 1, 1, 1, 2, 1, 2, 1, 1, 2, 1, 1, 1, 2, 3, 1, 2, 3, 1, 2, 3,\n",
      "       1, 2, 3, 1, 1, 2, 3, 1, 1, 3, 1, 2, 1, 2, 3, 1, 2, 3, 1, 1, 1, 1,\n",
      "       1, 1, 1, 1, 2, 3, 1, 3, 1, 1, 2, 3, 1, 2, 3, 1, 2, 1, 1, 1, 1, 1,\n",
      "       2, 1, 2, 1, 2, 1, 1, 2, 3, 3, 2, 2, 3, 3, 3, 3, 2, 3, 2, 3, 2, 3,\n",
      "       2, 2, 3, 3, 2, 3, 3, 3, 2, 3, 3, 3, 2, 3, 2, 3, 2, 2, 2, 3, 2, 3,\n",
      "       2, 2, 2, 3, 0, 1, 2, 3, 0, 1, 0, 1, 0, 1, 0, 1, 2, 3, 0, 1, 2, 3,\n",
      "       0, 1, 0, 1, 0, 1, 2, 0, 1, 0, 1, 0, 1, 0, 1, 3, 0, 1, 2, 0, 1, 0,\n",
      "       1, 2, 0, 1, 0, 1, 0, 1, 0, 1, 0, 1, 0, 1, 2, 0, 1, 0, 1, 0, 1, 2,\n",
      "       0, 1, 2, 0, 1, 2, 3, 0, 1, 3, 0, 1, 3, 0, 1, 3, 0, 1, 0, 1, 2, 0,\n",
      "       1, 2, 0, 1, 0, 1, 0, 1, 0, 1, 2, 0, 1, 0, 1, 0, 1, 0, 1, 0, 1, 2,\n",
      "       0, 1, 0, 1, 3, 0, 1, 0, 1, 0, 1, 0, 1, 2, 3, 0, 1, 2, 0, 1, 2, 0,\n",
      "       1, 3, 0, 1, 0, 1, 0, 2, 3, 0, 0, 0, 2, 0, 0, 2, 3, 0, 0, 0, 2, 3,\n",
      "       0, 2, 3, 0, 0, 0, 0, 3, 0, 2, 0, 3, 0, 3, 0, 2, 3, 0, 0, 0, 0, 0,\n",
      "       2, 3, 0, 2, 3, 0, 0, 2, 3, 0, 2, 3, 0, 0, 2, 0, 2, 0, 2, 0, 2, 3,\n",
      "       0, 3, 0, 0, 2, 3, 0, 0, 3, 0, 3, 0, 0, 0, 2, 0, 0, 2, 3, 0, 0, 0,\n",
      "       2, 3, 0, 0, 2, 3, 0, 0, 3], dtype=int64))\n"
     ]
    }
   ],
   "source": [
    "threshold=1\n",
    "print(np.where(z>1))"
   ]
  },
  {
   "cell_type": "code",
   "execution_count": 19,
   "metadata": {},
   "outputs": [
    {
     "data": {
      "text/plain": [
       "1.0744977685158095"
      ]
     },
     "execution_count": 19,
     "metadata": {},
     "output_type": "execute_result"
    }
   ],
   "source": [
    "z[0][1]"
   ]
  },
  {
   "cell_type": "code",
   "execution_count": 20,
   "metadata": {},
   "outputs": [
    {
     "data": {
      "text/plain": [
       "<matplotlib.collections.PathCollection at 0x19dffefe6c8>"
      ]
     },
     "execution_count": 20,
     "metadata": {},
     "output_type": "execute_result"
    },
    {
     "data": {
      "image/png": "[encoded data removed]",
      "text/plain": [
       "<Figure size 432x288 with 1 Axes>"
      ]
     },
     "metadata": {
      "needs_background": "light"
     },
     "output_type": "display_data"
    }
   ],
   "source": [
    "plt.scatter(data['HeadSize'],data['BrainWeight'])"
   ]
  },
  {
   "cell_type": "code",
   "execution_count": 21,
   "metadata": {},
   "outputs": [
    {
     "data": {
      "text/plain": [
       "<seaborn.axisgrid.PairGrid at 0x19d8300e708>"
      ]
     },
     "execution_count": 21,
     "metadata": {},
     "output_type": "execute_result"
    },
    {
     "data": {
      "image/png": "[encoded data removed]",
      "text/plain": [
       "<Figure size 720x720 with 20 Axes>"
      ]
     },
     "metadata": {
      "needs_background": "light"
     },
     "output_type": "display_data"
    }
   ],
   "source": [
    "sns.pairplot(data)"
   ]
  },
  {
   "cell_type": "code",
   "execution_count": 22,
   "metadata": {},
   "outputs": [],
   "source": [
    "data_new=data[(z<3).all(axis=1)]"
   ]
  },
  {
   "cell_type": "code",
   "execution_count": 23,
   "metadata": {},
   "outputs": [
    {
     "data": {
      "text/html": [
       "<div>\n",
       "<style scoped>\n",
       "    .dataframe tbody tr th:only-of-type {\n",
       "        vertical-align: middle;\n",
       "    }\n",
       "\n",
       "    .dataframe tbody tr th {\n",
       "        vertical-align: top;\n",
       "    }\n",
       "\n",
       "    .dataframe thead th {\n",
       "        text-align: right;\n",
       "    }\n",
       "</style>\n",
       "<table border=\"1\" class=\"dataframe\">\n",
       "  <thead>\n",
       "    <tr style=\"text-align: right;\">\n",
       "      <th></th>\n",
       "      <th>Gender</th>\n",
       "      <th>AgeRange</th>\n",
       "      <th>HeadSize</th>\n",
       "      <th>BrainWeight</th>\n",
       "    </tr>\n",
       "  </thead>\n",
       "  <tbody>\n",
       "    <tr>\n",
       "      <td>0</td>\n",
       "      <td>1</td>\n",
       "      <td>1</td>\n",
       "      <td>4512</td>\n",
       "      <td>1530</td>\n",
       "    </tr>\n",
       "    <tr>\n",
       "      <td>1</td>\n",
       "      <td>1</td>\n",
       "      <td>1</td>\n",
       "      <td>3738</td>\n",
       "      <td>1297</td>\n",
       "    </tr>\n",
       "    <tr>\n",
       "      <td>2</td>\n",
       "      <td>1</td>\n",
       "      <td>1</td>\n",
       "      <td>4261</td>\n",
       "      <td>1335</td>\n",
       "    </tr>\n",
       "    <tr>\n",
       "      <td>3</td>\n",
       "      <td>1</td>\n",
       "      <td>1</td>\n",
       "      <td>3777</td>\n",
       "      <td>1282</td>\n",
       "    </tr>\n",
       "    <tr>\n",
       "      <td>4</td>\n",
       "      <td>1</td>\n",
       "      <td>1</td>\n",
       "      <td>4177</td>\n",
       "      <td>1590</td>\n",
       "    </tr>\n",
       "    <tr>\n",
       "      <td>...</td>\n",
       "      <td>...</td>\n",
       "      <td>...</td>\n",
       "      <td>...</td>\n",
       "      <td>...</td>\n",
       "    </tr>\n",
       "    <tr>\n",
       "      <td>232</td>\n",
       "      <td>2</td>\n",
       "      <td>2</td>\n",
       "      <td>3214</td>\n",
       "      <td>1110</td>\n",
       "    </tr>\n",
       "    <tr>\n",
       "      <td>233</td>\n",
       "      <td>2</td>\n",
       "      <td>2</td>\n",
       "      <td>3394</td>\n",
       "      <td>1215</td>\n",
       "    </tr>\n",
       "    <tr>\n",
       "      <td>234</td>\n",
       "      <td>2</td>\n",
       "      <td>2</td>\n",
       "      <td>3233</td>\n",
       "      <td>1104</td>\n",
       "    </tr>\n",
       "    <tr>\n",
       "      <td>235</td>\n",
       "      <td>2</td>\n",
       "      <td>2</td>\n",
       "      <td>3352</td>\n",
       "      <td>1170</td>\n",
       "    </tr>\n",
       "    <tr>\n",
       "      <td>236</td>\n",
       "      <td>2</td>\n",
       "      <td>2</td>\n",
       "      <td>3391</td>\n",
       "      <td>1120</td>\n",
       "    </tr>\n",
       "  </tbody>\n",
       "</table>\n",
       "<p>236 rows × 4 columns</p>\n",
       "</div>"
      ],
      "text/plain": [
       "     Gender  AgeRange  HeadSize  BrainWeight\n",
       "0         1         1      4512         1530\n",
       "1         1         1      3738         1297\n",
       "2         1         1      4261         1335\n",
       "3         1         1      3777         1282\n",
       "4         1         1      4177         1590\n",
       "..      ...       ...       ...          ...\n",
       "232       2         2      3214         1110\n",
       "233       2         2      3394         1215\n",
       "234       2         2      3233         1104\n",
       "235       2         2      3352         1170\n",
       "236       2         2      3391         1120\n",
       "\n",
       "[236 rows x 4 columns]"
      ]
     },
     "execution_count": 23,
     "metadata": {},
     "output_type": "execute_result"
    }
   ],
   "source": [
    "data_new"
   ]
  },
  {
   "cell_type": "code",
   "execution_count": 24,
   "metadata": {},
   "outputs": [
    {
     "data": {
      "text/plain": [
       "(237, 4)"
      ]
     },
     "execution_count": 24,
     "metadata": {},
     "output_type": "execute_result"
    }
   ],
   "source": [
    "data.shape"
   ]
  },
  {
   "cell_type": "code",
   "execution_count": 25,
   "metadata": {},
   "outputs": [
    {
     "data": {
      "text/plain": [
       "(236, 4)"
      ]
     },
     "execution_count": 25,
     "metadata": {},
     "output_type": "execute_result"
    }
   ],
   "source": [
    "data_new.shape"
   ]
  },
  {
   "cell_type": "code",
   "execution_count": 26,
   "metadata": {},
   "outputs": [
    {
     "data": {
      "text/html": [
       "<div>\n",
       "<style scoped>\n",
       "    .dataframe tbody tr th:only-of-type {\n",
       "        vertical-align: middle;\n",
       "    }\n",
       "\n",
       "    .dataframe tbody tr th {\n",
       "        vertical-align: top;\n",
       "    }\n",
       "\n",
       "    .dataframe thead th {\n",
       "        text-align: right;\n",
       "    }\n",
       "</style>\n",
       "<table border=\"1\" class=\"dataframe\">\n",
       "  <thead>\n",
       "    <tr style=\"text-align: right;\">\n",
       "      <th></th>\n",
       "      <th>Gender</th>\n",
       "      <th>AgeRange</th>\n",
       "      <th>HeadSize</th>\n",
       "      <th>BrainWeight</th>\n",
       "    </tr>\n",
       "  </thead>\n",
       "  <tbody>\n",
       "    <tr>\n",
       "      <td>0</td>\n",
       "      <td>1</td>\n",
       "      <td>1</td>\n",
       "      <td>4512</td>\n",
       "      <td>1530</td>\n",
       "    </tr>\n",
       "    <tr>\n",
       "      <td>1</td>\n",
       "      <td>1</td>\n",
       "      <td>1</td>\n",
       "      <td>3738</td>\n",
       "      <td>1297</td>\n",
       "    </tr>\n",
       "    <tr>\n",
       "      <td>2</td>\n",
       "      <td>1</td>\n",
       "      <td>1</td>\n",
       "      <td>4261</td>\n",
       "      <td>1335</td>\n",
       "    </tr>\n",
       "    <tr>\n",
       "      <td>3</td>\n",
       "      <td>1</td>\n",
       "      <td>1</td>\n",
       "      <td>3777</td>\n",
       "      <td>1282</td>\n",
       "    </tr>\n",
       "    <tr>\n",
       "      <td>4</td>\n",
       "      <td>1</td>\n",
       "      <td>1</td>\n",
       "      <td>4177</td>\n",
       "      <td>1590</td>\n",
       "    </tr>\n",
       "    <tr>\n",
       "      <td>...</td>\n",
       "      <td>...</td>\n",
       "      <td>...</td>\n",
       "      <td>...</td>\n",
       "      <td>...</td>\n",
       "    </tr>\n",
       "    <tr>\n",
       "      <td>232</td>\n",
       "      <td>2</td>\n",
       "      <td>2</td>\n",
       "      <td>3214</td>\n",
       "      <td>1110</td>\n",
       "    </tr>\n",
       "    <tr>\n",
       "      <td>233</td>\n",
       "      <td>2</td>\n",
       "      <td>2</td>\n",
       "      <td>3394</td>\n",
       "      <td>1215</td>\n",
       "    </tr>\n",
       "    <tr>\n",
       "      <td>234</td>\n",
       "      <td>2</td>\n",
       "      <td>2</td>\n",
       "      <td>3233</td>\n",
       "      <td>1104</td>\n",
       "    </tr>\n",
       "    <tr>\n",
       "      <td>235</td>\n",
       "      <td>2</td>\n",
       "      <td>2</td>\n",
       "      <td>3352</td>\n",
       "      <td>1170</td>\n",
       "    </tr>\n",
       "    <tr>\n",
       "      <td>236</td>\n",
       "      <td>2</td>\n",
       "      <td>2</td>\n",
       "      <td>3391</td>\n",
       "      <td>1120</td>\n",
       "    </tr>\n",
       "  </tbody>\n",
       "</table>\n",
       "<p>236 rows × 4 columns</p>\n",
       "</div>"
      ],
      "text/plain": [
       "     Gender  AgeRange  HeadSize  BrainWeight\n",
       "0         1         1      4512         1530\n",
       "1         1         1      3738         1297\n",
       "2         1         1      4261         1335\n",
       "3         1         1      3777         1282\n",
       "4         1         1      4177         1590\n",
       "..      ...       ...       ...          ...\n",
       "232       2         2      3214         1110\n",
       "233       2         2      3394         1215\n",
       "234       2         2      3233         1104\n",
       "235       2         2      3352         1170\n",
       "236       2         2      3391         1120\n",
       "\n",
       "[236 rows x 4 columns]"
      ]
     },
     "execution_count": 26,
     "metadata": {},
     "output_type": "execute_result"
    }
   ],
   "source": [
    "data=data_new\n",
    "data"
   ]
  },
  {
   "cell_type": "markdown",
   "metadata": {},
   "source": [
    "# SPLITTING DATA INTO X AND Y"
   ]
  },
  {
   "cell_type": "code",
   "execution_count": 27,
   "metadata": {},
   "outputs": [
    {
     "data": {
      "text/html": [
       "<div>\n",
       "<style scoped>\n",
       "    .dataframe tbody tr th:only-of-type {\n",
       "        vertical-align: middle;\n",
       "    }\n",
       "\n",
       "    .dataframe tbody tr th {\n",
       "        vertical-align: top;\n",
       "    }\n",
       "\n",
       "    .dataframe thead th {\n",
       "        text-align: right;\n",
       "    }\n",
       "</style>\n",
       "<table border=\"1\" class=\"dataframe\">\n",
       "  <thead>\n",
       "    <tr style=\"text-align: right;\">\n",
       "      <th></th>\n",
       "      <th>Gender</th>\n",
       "      <th>AgeRange</th>\n",
       "      <th>HeadSize</th>\n",
       "    </tr>\n",
       "  </thead>\n",
       "  <tbody>\n",
       "    <tr>\n",
       "      <td>0</td>\n",
       "      <td>1</td>\n",
       "      <td>1</td>\n",
       "      <td>4512</td>\n",
       "    </tr>\n",
       "    <tr>\n",
       "      <td>1</td>\n",
       "      <td>1</td>\n",
       "      <td>1</td>\n",
       "      <td>3738</td>\n",
       "    </tr>\n",
       "    <tr>\n",
       "      <td>2</td>\n",
       "      <td>1</td>\n",
       "      <td>1</td>\n",
       "      <td>4261</td>\n",
       "    </tr>\n",
       "    <tr>\n",
       "      <td>3</td>\n",
       "      <td>1</td>\n",
       "      <td>1</td>\n",
       "      <td>3777</td>\n",
       "    </tr>\n",
       "    <tr>\n",
       "      <td>4</td>\n",
       "      <td>1</td>\n",
       "      <td>1</td>\n",
       "      <td>4177</td>\n",
       "    </tr>\n",
       "  </tbody>\n",
       "</table>\n",
       "</div>"
      ],
      "text/plain": [
       "   Gender  AgeRange  HeadSize\n",
       "0       1         1      4512\n",
       "1       1         1      3738\n",
       "2       1         1      4261\n",
       "3       1         1      3777\n",
       "4       1         1      4177"
      ]
     },
     "execution_count": 27,
     "metadata": {},
     "output_type": "execute_result"
    }
   ],
   "source": [
    "x=data.iloc[:,0:-1]\n",
    "x.head()"
   ]
  },
  {
   "cell_type": "code",
   "execution_count": 28,
   "metadata": {},
   "outputs": [
    {
     "data": {
      "text/plain": [
       "0    1530\n",
       "1    1297\n",
       "2    1335\n",
       "3    1282\n",
       "4    1590\n",
       "Name: BrainWeight, dtype: int64"
      ]
     },
     "execution_count": 28,
     "metadata": {},
     "output_type": "execute_result"
    }
   ],
   "source": [
    "y=data.iloc[:,-1]\n",
    "y.head()"
   ]
  },
  {
   "cell_type": "code",
   "execution_count": 29,
   "metadata": {},
   "outputs": [
    {
     "data": {
      "text/plain": [
       "(236, 3)"
      ]
     },
     "execution_count": 29,
     "metadata": {},
     "output_type": "execute_result"
    }
   ],
   "source": [
    "x.shape"
   ]
  },
  {
   "cell_type": "code",
   "execution_count": 30,
   "metadata": {},
   "outputs": [
    {
     "data": {
      "text/plain": [
       "(236,)"
      ]
     },
     "execution_count": 30,
     "metadata": {},
     "output_type": "execute_result"
    }
   ],
   "source": [
    "y.shape"
   ]
  },
  {
   "cell_type": "code",
   "execution_count": 31,
   "metadata": {},
   "outputs": [],
   "source": [
    "x_train,x_test,y_train,y_test=train_test_split(x,y,test_size=.21,random_state=43)"
   ]
  },
  {
   "cell_type": "code",
   "execution_count": 32,
   "metadata": {},
   "outputs": [
    {
     "data": {
      "text/plain": [
       "(186, 3)"
      ]
     },
     "execution_count": 32,
     "metadata": {},
     "output_type": "execute_result"
    }
   ],
   "source": [
    "x_train.shape"
   ]
  },
  {
   "cell_type": "code",
   "execution_count": 33,
   "metadata": {},
   "outputs": [
    {
     "data": {
      "text/plain": [
       "(186,)"
      ]
     },
     "execution_count": 33,
     "metadata": {},
     "output_type": "execute_result"
    }
   ],
   "source": [
    "y_train.shape"
   ]
  },
  {
   "cell_type": "code",
   "execution_count": 34,
   "metadata": {},
   "outputs": [
    {
     "data": {
      "text/plain": [
       "(50, 3)"
      ]
     },
     "execution_count": 34,
     "metadata": {},
     "output_type": "execute_result"
    }
   ],
   "source": [
    "x_test.shape"
   ]
  },
  {
   "cell_type": "code",
   "execution_count": 35,
   "metadata": {},
   "outputs": [
    {
     "data": {
      "text/plain": [
       "(50,)"
      ]
     },
     "execution_count": 35,
     "metadata": {},
     "output_type": "execute_result"
    }
   ],
   "source": [
    "y_test.shape"
   ]
  },
  {
   "cell_type": "markdown",
   "metadata": {},
   "source": [
    "# APPLYING MODEL"
   ]
  },
  {
   "cell_type": "code",
   "execution_count": 36,
   "metadata": {},
   "outputs": [],
   "source": [
    "lm=LinearRegression()"
   ]
  },
  {
   "cell_type": "code",
   "execution_count": 37,
   "metadata": {},
   "outputs": [
    {
     "data": {
      "text/plain": [
       "LinearRegression(copy_X=True, fit_intercept=True, n_jobs=None, normalize=False)"
      ]
     },
     "execution_count": 37,
     "metadata": {},
     "output_type": "execute_result"
    }
   ],
   "source": [
    "lm.fit(x_train,y_train)"
   ]
  },
  {
   "cell_type": "code",
   "execution_count": 38,
   "metadata": {},
   "outputs": [
    {
     "data": {
      "text/plain": [
       "array([-30.11243037, -25.39958399,   0.24190872])"
      ]
     },
     "execution_count": 38,
     "metadata": {},
     "output_type": "execute_result"
    }
   ],
   "source": [
    "lm.coef_"
   ]
  },
  {
   "cell_type": "code",
   "execution_count": 39,
   "metadata": {},
   "outputs": [
    {
     "data": {
      "text/plain": [
       "485.5622746107143"
      ]
     },
     "execution_count": 39,
     "metadata": {},
     "output_type": "execute_result"
    }
   ],
   "source": [
    "lm.intercept_"
   ]
  },
  {
   "cell_type": "code",
   "execution_count": 40,
   "metadata": {},
   "outputs": [
    {
     "data": {
      "text/plain": [
       "0.6159148534887593"
      ]
     },
     "execution_count": 40,
     "metadata": {},
     "output_type": "execute_result"
    }
   ],
   "source": [
    "lm.score(x_train,y_train)"
   ]
  },
  {
   "cell_type": "code",
   "execution_count": 41,
   "metadata": {},
   "outputs": [
    {
     "name": "stdout",
     "output_type": "stream",
     "text": [
      "Predicted result [1367.68846246 1290.27850347 1346.1585863  1253.87561465 1155.41959695\n",
      " 1332.37062091 1268.50588689 1264.03578093 1220.36688313 1194.36690102\n",
      " 1236.57393573 1271.16771452 1262.94198631 1091.07104549 1362.49263033\n",
      " 1355.3519494  1197.51171439 1460.82332    1521.54240895 1298.50339999\n",
      " 1490.33701566 1274.79551363 1193.15652571 1279.27686205 1332.12871219\n",
      " 1348.09468777 1476.30630985 1371.07518455 1114.2951144  1219.52540799\n",
      " 1395.9917828  1159.77395393 1270.32623938 1217.94779593 1300.80590651\n",
      " 1147.43577746 1278.06731845 1234.7648257  1198.72042629 1388.49261245\n",
      " 1356.561493   1266.57061712 1203.80050942 1141.38889114 1266.45569984\n",
      " 1231.62001233 1292.33910127 1067.36482254 1401.55651509 1085.50797661]\n",
      "Actual result 15     1405\n",
      "103    1320\n",
      "30     1318\n",
      "141    1252\n",
      "201    1235\n",
      "79     1315\n",
      "17     1292\n",
      "140    1270\n",
      "67     1154\n",
      "219    1130\n",
      "38     1236\n",
      "129    1300\n",
      "10     1340\n",
      "134    1027\n",
      "178    1324\n",
      "78     1252\n",
      "206    1220\n",
      "2      1335\n",
      "0      1530\n",
      "110    1310\n",
      "122    1440\n",
      "39     1250\n",
      "156    1265\n",
      "222    1280\n",
      "101    1430\n",
      "117    1270\n",
      "68     1510\n",
      "56     1310\n",
      "196    1120\n",
      "198    1240\n",
      "11     1380\n",
      "216    1180\n",
      "189    1350\n",
      "77     1188\n",
      "173    1280\n",
      "149    1168\n",
      "228    1350\n",
      "148    1340\n",
      "137    1165\n",
      "40     1350\n",
      "58     1330\n",
      "55     1225\n",
      "151    1249\n",
      "217    1178\n",
      "193    1355\n",
      "143    1290\n",
      "180    1290\n",
      "221    1012\n",
      "72     1380\n",
      "212    1060\n",
      "Name: BrainWeight, dtype: int64\n"
     ]
    }
   ],
   "source": [
    "#predict the value\n",
    "pred=lm.predict(x_test)\n",
    "print(\"Predicted result\",pred)\n",
    "print(\"Actual result\",y_test)"
   ]
  },
  {
   "cell_type": "code",
   "execution_count": 42,
   "metadata": {},
   "outputs": [
    {
     "name": "stdout",
     "output_type": "stream",
     "text": [
      "error\n",
      "2732.2102569303515\n"
     ]
    }
   ],
   "source": [
    "print(\"error\")\n",
    "print(mean_squared_error(y_test,pred))"
   ]
  },
  {
   "cell_type": "code",
   "execution_count": 43,
   "metadata": {},
   "outputs": [
    {
     "name": "stdout",
     "output_type": "stream",
     "text": [
      "0.75562062781253\n"
     ]
    }
   ],
   "source": [
    "from sklearn.metrics import r2_score\n",
    "print(r2_score(y_test,pred))"
   ]
  },
  {
   "cell_type": "code",
   "execution_count": 44,
   "metadata": {},
   "outputs": [
    {
     "data": {
      "text/html": [
       "<div>\n",
       "<style scoped>\n",
       "    .dataframe tbody tr th:only-of-type {\n",
       "        vertical-align: middle;\n",
       "    }\n",
       "\n",
       "    .dataframe tbody tr th {\n",
       "        vertical-align: top;\n",
       "    }\n",
       "\n",
       "    .dataframe thead th {\n",
       "        text-align: right;\n",
       "    }\n",
       "</style>\n",
       "<table border=\"1\" class=\"dataframe\">\n",
       "  <thead>\n",
       "    <tr style=\"text-align: right;\">\n",
       "      <th></th>\n",
       "      <th>Gender</th>\n",
       "      <th>AgeRange</th>\n",
       "      <th>HeadSize</th>\n",
       "      <th>BrainWeight</th>\n",
       "    </tr>\n",
       "  </thead>\n",
       "  <tbody>\n",
       "    <tr>\n",
       "      <td>Gender</td>\n",
       "      <td>1.000000</td>\n",
       "      <td>-0.093023</td>\n",
       "      <td>-0.513779</td>\n",
       "      <td>-0.463639</td>\n",
       "    </tr>\n",
       "    <tr>\n",
       "      <td>AgeRange</td>\n",
       "      <td>-0.093023</td>\n",
       "      <td>1.000000</td>\n",
       "      <td>-0.093618</td>\n",
       "      <td>-0.159401</td>\n",
       "    </tr>\n",
       "    <tr>\n",
       "      <td>HeadSize</td>\n",
       "      <td>-0.513779</td>\n",
       "      <td>-0.093618</td>\n",
       "      <td>1.000000</td>\n",
       "      <td>0.791692</td>\n",
       "    </tr>\n",
       "    <tr>\n",
       "      <td>BrainWeight</td>\n",
       "      <td>-0.463639</td>\n",
       "      <td>-0.159401</td>\n",
       "      <td>0.791692</td>\n",
       "      <td>1.000000</td>\n",
       "    </tr>\n",
       "  </tbody>\n",
       "</table>\n",
       "</div>"
      ],
      "text/plain": [
       "               Gender  AgeRange  HeadSize  BrainWeight\n",
       "Gender       1.000000 -0.093023 -0.513779    -0.463639\n",
       "AgeRange    -0.093023  1.000000 -0.093618    -0.159401\n",
       "HeadSize    -0.513779 -0.093618  1.000000     0.791692\n",
       "BrainWeight -0.463639 -0.159401  0.791692     1.000000"
      ]
     },
     "execution_count": 44,
     "metadata": {},
     "output_type": "execute_result"
    }
   ],
   "source": [
    "data.corr()"
   ]
  },
  {
   "cell_type": "code",
   "execution_count": null,
   "metadata": {},
   "outputs": [],
   "source": []
  }
 ],
 "metadata": {
  "kernelspec": {
   "display_name": "Python 3",
   "language": "python",
   "name": "python3"
  },
  "language_info": {
   "codemirror_mode": {
    "name": "ipython",
    "version": 3
   },
   "file_extension": ".py",
   "mimetype": "text/x-python",
   "name": "python",
   "nbconvert_exporter": "python",
   "pygments_lexer": "ipython3",
   "version": "3.7.4"
  }
 },
 "nbformat": 4,
 "nbformat_minor": 2
}
